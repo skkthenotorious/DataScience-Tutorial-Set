{
 "cells": [
  {
   "cell_type": "markdown",
   "metadata": {},
   "source": [
    "# Class Example"
   ]
  },
  {
   "cell_type": "code",
   "execution_count": 39,
   "metadata": {},
   "outputs": [],
   "source": [
    "class Shirt:\n",
    "    def __init__(self, color, size, style, price):\n",
    "        self.color = color\n",
    "        self.size = size\n",
    "        self.style = style\n",
    "        self.price = price\n",
    "        \n",
    "    def change_price(self, new_price):\n",
    "        self.price = new_price\n",
    "    \n",
    "    def discount(self, discount):\n",
    "        return self.price * (1 - discount)"
   ]
  },
  {
   "cell_type": "code",
   "execution_count": 40,
   "metadata": {},
   "outputs": [
    {
     "data": {
      "text/plain": [
       "<__main__.Shirt at 0x7fef20076390>"
      ]
     },
     "execution_count": 40,
     "metadata": {},
     "output_type": "execute_result"
    }
   ],
   "source": [
    "Shirt('red', 'M', 'full sleeve', 20)"
   ]
  },
  {
   "cell_type": "code",
   "execution_count": 35,
   "metadata": {},
   "outputs": [
    {
     "data": {
      "text/plain": [
       "'Black'"
      ]
     },
     "execution_count": 35,
     "metadata": {},
     "output_type": "execute_result"
    }
   ],
   "source": [
    "new_shirt = Shirt('Black', 'M', 'Full Sleeve', 30)\n",
    "new_shirt.color"
   ]
  },
  {
   "cell_type": "code",
   "execution_count": 36,
   "metadata": {},
   "outputs": [
    {
     "name": "stdout",
     "output_type": "stream",
     "text": [
      "36\n"
     ]
    }
   ],
   "source": [
    "new_shirt.change_price(36)\n",
    "print(new_shirt.price)"
   ]
  },
  {
   "cell_type": "code",
   "execution_count": 37,
   "metadata": {},
   "outputs": [
    {
     "name": "stdout",
     "output_type": "stream",
     "text": [
      "25.2\n"
     ]
    }
   ],
   "source": [
    "print(new_shirt.discount(.3))"
   ]
  },
  {
   "cell_type": "code",
   "execution_count": 42,
   "metadata": {},
   "outputs": [],
   "source": [
    "class Pants:\n",
    "    def __init__(self, color, waist_size, length, price):\n",
    "        self.color = color\n",
    "        self.waist_size = waist_size\n",
    "        self.length = length\n",
    "        self.price = price\n",
    "        \n",
    "    def change_price(self, new_price):\n",
    "        self.price = new_price\n",
    "    \n",
    "    def discount(self, discount):\n",
    "        return self.price * (1 - discount)"
   ]
  },
  {
   "cell_type": "code",
   "execution_count": 43,
   "metadata": {},
   "outputs": [
    {
     "name": "stdout",
     "output_type": "stream",
     "text": [
      "You made it to the end of the check. Nice job!\n"
     ]
    }
   ],
   "source": [
    "def check_results():\n",
    "    pants = Pants('red', 35, 36, 15.12)\n",
    "    assert pants.color == 'red'\n",
    "    assert pants.waist_size == 35\n",
    "    assert pants.length == 36\n",
    "    assert pants.price == 15.12\n",
    "    \n",
    "    pants.change_price(10) == 10\n",
    "    assert pants.price == 10 \n",
    "    \n",
    "    assert pants.discount(.1) == 9\n",
    "    \n",
    "    print('You made it to the end of the check. Nice job!')\n",
    "\n",
    "check_results()"
   ]
  },
  {
   "cell_type": "code",
   "execution_count": 71,
   "metadata": {},
   "outputs": [],
   "source": [
    "class Pants:\n",
    "    def __init__(self, color, waist_size, length, price):\n",
    "        self.color = color\n",
    "        self.waist_size = waist_size\n",
    "        self.length = length\n",
    "        self.price = price\n",
    "        \n",
    "    def change_price(self, new_price):\n",
    "        self.price = new_price\n",
    "    \n",
    "    def discount(self, discount):\n",
    "        return self.price * (1 - discount)\n",
    "    \n",
    "class SalesPerson:\n",
    "    def __init__(self, first_name, last_name, employee_id, salary):\n",
    "        self.first_name = first_name\n",
    "        self.last_name = last_name\n",
    "        self.employee_id = employee_id\n",
    "        self.salary = salary\n",
    "        self.pants_sold = []\n",
    "        self.total_sales = 0\n",
    "    \n",
    "    def sell_pants(self, pant_object):\n",
    "        self.pants_sold.append(pant_object)\n",
    "    \n",
    "    def display_sales(self):\n",
    "        for pants in self.pants_sold:\n",
    "            print('color:{}, waist_size:{}, length:{}, price:{}'\\\n",
    "                  .format(pants.color, pants.waist_size, pants.length, pants.price))\n",
    "    \n",
    "    def calculate_sales(self):\n",
    "        total = 0\n",
    "        for pants in self.pants_sold:\n",
    "            total += pants.price\n",
    "            \n",
    "        self.total_sales = total\n",
    "        \n",
    "        return total\n",
    "    \n",
    "    def calculate_commission(self, percentage):\n",
    "        sales_total = self.calculate_sales()\n",
    "        return sales_total * percentage "
   ]
  },
  {
   "cell_type": "code",
   "execution_count": 72,
   "metadata": {},
   "outputs": [
    {
     "name": "stdout",
     "output_type": "stream",
     "text": [
      "Great job, you made it to the end of the code checks!\n"
     ]
    }
   ],
   "source": [
    "def check_results():\n",
    "    pants_one = Pants('red', 35, 36, 15.12)\n",
    "    pants_two = Pants('blue', 40, 38, 24.12)\n",
    "    pants_three = Pants('tan', 28, 30, 8.12)\n",
    "    \n",
    "    salesperson = SalesPerson('Amy', 'Gonzalez', 2581923, 40000)\n",
    "    \n",
    "    assert salesperson.first_name == 'Amy'\n",
    "    assert salesperson.last_name == 'Gonzalez'\n",
    "    assert salesperson.employee_id == 2581923\n",
    "    assert salesperson.salary == 40000\n",
    "    assert salesperson.pants_sold == []\n",
    "    assert salesperson.total_sales == 0\n",
    "    \n",
    "    salesperson.sell_pants(pants_one)\n",
    "    salesperson.pants_sold[0] == pants_one.color\n",
    "    \n",
    "    salesperson.sell_pants(pants_two)\n",
    "    salesperson.sell_pants(pants_three)\n",
    "    \n",
    "    assert len(salesperson.pants_sold) == 3\n",
    "    assert round(salesperson.calculate_sales(),2) == 47.36\n",
    "    assert round(salesperson.calculate_commission(.1),2) == 4.74\n",
    "    \n",
    "    print('Great job, you made it to the end of the code checks!')\n",
    "    \n",
    "check_results()"
   ]
  },
  {
   "cell_type": "code",
   "execution_count": null,
   "metadata": {},
   "outputs": [],
   "source": []
  }
 ],
 "metadata": {
  "kernelspec": {
   "display_name": "Python 3",
   "language": "python",
   "name": "python3"
  },
  "language_info": {
   "codemirror_mode": {
    "name": "ipython",
    "version": 3
   },
   "file_extension": ".py",
   "mimetype": "text/x-python",
   "name": "python",
   "nbconvert_exporter": "python",
   "pygments_lexer": "ipython3",
   "version": "3.7.3"
  }
 },
 "nbformat": 4,
 "nbformat_minor": 2
}
